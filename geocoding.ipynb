{
 "cells": [
  {
   "cell_type": "code",
   "execution_count": 38,
   "metadata": {},
   "outputs": [
    {
     "name": "stdout",
     "output_type": "stream",
     "text": [
      "Requirement already satisfied: googlemaps in /Users/dgg32/Documents/google_ontology/.conda/lib/python3.10/site-packages (4.10.0)\n",
      "Requirement already satisfied: requests<3.0,>=2.20.0 in /Users/dgg32/Documents/google_ontology/.conda/lib/python3.10/site-packages (from googlemaps) (2.31.0)\n",
      "Requirement already satisfied: charset-normalizer<4,>=2 in /Users/dgg32/Documents/google_ontology/.conda/lib/python3.10/site-packages (from requests<3.0,>=2.20.0->googlemaps) (3.2.0)\n",
      "Requirement already satisfied: idna<4,>=2.5 in /Users/dgg32/Documents/google_ontology/.conda/lib/python3.10/site-packages (from requests<3.0,>=2.20.0->googlemaps) (3.4)\n",
      "Requirement already satisfied: urllib3<3,>=1.21.1 in /Users/dgg32/Documents/google_ontology/.conda/lib/python3.10/site-packages (from requests<3.0,>=2.20.0->googlemaps) (1.26.16)\n",
      "Requirement already satisfied: certifi>=2017.4.17 in /Users/dgg32/Documents/google_ontology/.conda/lib/python3.10/site-packages (from requests<3.0,>=2.20.0->googlemaps) (2023.7.22)\n"
     ]
    }
   ],
   "source": [
    "!pip install -U googlemaps"
   ]
  },
  {
   "cell_type": "code",
   "execution_count": 39,
   "metadata": {},
   "outputs": [
    {
     "name": "stdout",
     "output_type": "stream",
     "text": [
      "Requirement already satisfied: mpu in /Users/dgg32/Documents/google_ontology/.conda/lib/python3.10/site-packages (0.23.1)\n"
     ]
    }
   ],
   "source": [
    "!pip install mpu"
   ]
  },
  {
   "cell_type": "code",
   "execution_count": 40,
   "metadata": {},
   "outputs": [],
   "source": [
    "import googlemaps\n",
    "from datetime import datetime\n",
    "import os\n",
    "import yaml\n",
    "import pandas as pd\n",
    "import numpy as np\n",
    "from itertools import combinations\n",
    "import mpu"
   ]
  },
  {
   "cell_type": "code",
   "execution_count": 41,
   "metadata": {},
   "outputs": [],
   "source": [
    "with open(\"config.yaml\", \"r\") as stream:\n",
    "    try:\n",
    "        PARAM = yaml.safe_load(stream)\n",
    "    except yaml.YAMLError as exc:\n",
    "        print(exc)"
   ]
  },
  {
   "cell_type": "code",
   "execution_count": 42,
   "metadata": {},
   "outputs": [],
   "source": [
    "gmaps = googlemaps.Client(key=PARAM[\"GOOGLE_API_KEY\"])"
   ]
  },
  {
   "cell_type": "code",
   "execution_count": 43,
   "metadata": {},
   "outputs": [
    {
     "name": "stdout",
     "output_type": "stream",
     "text": [
      "52.2106571 10.5232126\n"
     ]
    }
   ],
   "source": [
    "\n",
    "geocode_result = gmaps.geocode('Hohes Feld 4, 38124 Braunschweig, Germany')\n",
    "print (geocode_result[0][\"geometry\"][\"location\"][\"lat\"], geocode_result[0][\"geometry\"][\"location\"][\"lng\"])"
   ]
  },
  {
   "cell_type": "code",
   "execution_count": 44,
   "metadata": {},
   "outputs": [],
   "source": [
    "addresses = pd.read_csv(\"address.tsv\", sep=\"\\t\")"
   ]
  },
  {
   "cell_type": "code",
   "execution_count": 45,
   "metadata": {},
   "outputs": [
    {
     "data": {
      "text/html": [
       "<div>\n",
       "<style scoped>\n",
       "    .dataframe tbody tr th:only-of-type {\n",
       "        vertical-align: middle;\n",
       "    }\n",
       "\n",
       "    .dataframe tbody tr th {\n",
       "        vertical-align: top;\n",
       "    }\n",
       "\n",
       "    .dataframe thead th {\n",
       "        text-align: right;\n",
       "    }\n",
       "</style>\n",
       "<table border=\"1\" class=\"dataframe\">\n",
       "  <thead>\n",
       "    <tr style=\"text-align: right;\">\n",
       "      <th></th>\n",
       "      <th>name</th>\n",
       "      <th>address</th>\n",
       "    </tr>\n",
       "  </thead>\n",
       "  <tbody>\n",
       "    <tr>\n",
       "      <th>0</th>\n",
       "      <td>A</td>\n",
       "      <td>Hohes Feld 4, 38124 Braunschweig, Germany</td>\n",
       "    </tr>\n",
       "    <tr>\n",
       "      <th>1</th>\n",
       "      <td>B</td>\n",
       "      <td>Leipziger Str. 220, 38124 Braunschweig, Germany</td>\n",
       "    </tr>\n",
       "    <tr>\n",
       "      <th>2</th>\n",
       "      <td>C</td>\n",
       "      <td>Hohes Feld 4, 31226 Peine, Germany</td>\n",
       "    </tr>\n",
       "    <tr>\n",
       "      <th>3</th>\n",
       "      <td>D</td>\n",
       "      <td>Hohes Feld 2A, 38124 Braunschweig, Germany</td>\n",
       "    </tr>\n",
       "  </tbody>\n",
       "</table>\n",
       "</div>"
      ],
      "text/plain": [
       "  name                                          address\n",
       "0    A        Hohes Feld 4, 38124 Braunschweig, Germany\n",
       "1    B  Leipziger Str. 220, 38124 Braunschweig, Germany\n",
       "2    C               Hohes Feld 4, 31226 Peine, Germany\n",
       "3    D       Hohes Feld 2A, 38124 Braunschweig, Germany"
      ]
     },
     "execution_count": 45,
     "metadata": {},
     "output_type": "execute_result"
    }
   ],
   "source": [
    "addresses"
   ]
  },
  {
   "cell_type": "code",
   "execution_count": 46,
   "metadata": {},
   "outputs": [],
   "source": [
    "for index, row in addresses.iterrows():\n",
    "    geocode_result = gmaps.geocode(row[\"address\"]) \n",
    "    lat = geocode_result[0][\"geometry\"][\"location\"][\"lat\"]\n",
    "    lng = geocode_result[0][\"geometry\"][\"location\"][\"lng\"]\n",
    "\n",
    "    addresses.loc[index, \"lat\"] = lat\n",
    "    addresses.loc[index, \"lng\"] = lng"
   ]
  },
  {
   "cell_type": "code",
   "execution_count": 47,
   "metadata": {},
   "outputs": [
    {
     "data": {
      "text/html": [
       "<div>\n",
       "<style scoped>\n",
       "    .dataframe tbody tr th:only-of-type {\n",
       "        vertical-align: middle;\n",
       "    }\n",
       "\n",
       "    .dataframe tbody tr th {\n",
       "        vertical-align: top;\n",
       "    }\n",
       "\n",
       "    .dataframe thead th {\n",
       "        text-align: right;\n",
       "    }\n",
       "</style>\n",
       "<table border=\"1\" class=\"dataframe\">\n",
       "  <thead>\n",
       "    <tr style=\"text-align: right;\">\n",
       "      <th></th>\n",
       "      <th>name</th>\n",
       "      <th>address</th>\n",
       "      <th>lat</th>\n",
       "      <th>lng</th>\n",
       "    </tr>\n",
       "  </thead>\n",
       "  <tbody>\n",
       "    <tr>\n",
       "      <th>0</th>\n",
       "      <td>A</td>\n",
       "      <td>Hohes Feld 4, 38124 Braunschweig, Germany</td>\n",
       "      <td>52.210657</td>\n",
       "      <td>10.523213</td>\n",
       "    </tr>\n",
       "    <tr>\n",
       "      <th>1</th>\n",
       "      <td>B</td>\n",
       "      <td>Leipziger Str. 220, 38124 Braunschweig, Germany</td>\n",
       "      <td>52.210868</td>\n",
       "      <td>10.523072</td>\n",
       "    </tr>\n",
       "    <tr>\n",
       "      <th>2</th>\n",
       "      <td>C</td>\n",
       "      <td>Hohes Feld 4, 31226 Peine, Germany</td>\n",
       "      <td>52.293380</td>\n",
       "      <td>10.215091</td>\n",
       "    </tr>\n",
       "    <tr>\n",
       "      <th>3</th>\n",
       "      <td>D</td>\n",
       "      <td>Hohes Feld 2A, 38124 Braunschweig, Germany</td>\n",
       "      <td>52.210207</td>\n",
       "      <td>10.521785</td>\n",
       "    </tr>\n",
       "  </tbody>\n",
       "</table>\n",
       "</div>"
      ],
      "text/plain": [
       "  name                                          address        lat        lng\n",
       "0    A        Hohes Feld 4, 38124 Braunschweig, Germany  52.210657  10.523213\n",
       "1    B  Leipziger Str. 220, 38124 Braunschweig, Germany  52.210868  10.523072\n",
       "2    C               Hohes Feld 4, 31226 Peine, Germany  52.293380  10.215091\n",
       "3    D       Hohes Feld 2A, 38124 Braunschweig, Germany  52.210207  10.521785"
      ]
     },
     "execution_count": 47,
     "metadata": {},
     "output_type": "execute_result"
    }
   ],
   "source": [
    "addresses"
   ]
  },
  {
   "cell_type": "code",
   "execution_count": 48,
   "metadata": {},
   "outputs": [],
   "source": [
    "idxs = list(combinations(addresses.index,2))\n",
    "dfx = pd.DataFrame(np.concatenate((addresses.iloc[idx[0]].values, addresses.iloc[idx[1]].values)) for idx in idxs)\n"
   ]
  },
  {
   "cell_type": "code",
   "execution_count": 49,
   "metadata": {},
   "outputs": [],
   "source": [
    "dfx.columns = ['s_name', 's_address', 's_lat', 's_lng', 'd_name', 'd_address', 'd_lat', 'd_lng']"
   ]
  },
  {
   "cell_type": "code",
   "execution_count": 50,
   "metadata": {},
   "outputs": [
    {
     "data": {
      "text/html": [
       "<div>\n",
       "<style scoped>\n",
       "    .dataframe tbody tr th:only-of-type {\n",
       "        vertical-align: middle;\n",
       "    }\n",
       "\n",
       "    .dataframe tbody tr th {\n",
       "        vertical-align: top;\n",
       "    }\n",
       "\n",
       "    .dataframe thead th {\n",
       "        text-align: right;\n",
       "    }\n",
       "</style>\n",
       "<table border=\"1\" class=\"dataframe\">\n",
       "  <thead>\n",
       "    <tr style=\"text-align: right;\">\n",
       "      <th></th>\n",
       "      <th>s_name</th>\n",
       "      <th>s_address</th>\n",
       "      <th>s_lat</th>\n",
       "      <th>s_lng</th>\n",
       "      <th>d_name</th>\n",
       "      <th>d_address</th>\n",
       "      <th>d_lat</th>\n",
       "      <th>d_lng</th>\n",
       "    </tr>\n",
       "  </thead>\n",
       "  <tbody>\n",
       "    <tr>\n",
       "      <th>0</th>\n",
       "      <td>A</td>\n",
       "      <td>Hohes Feld 4, 38124 Braunschweig, Germany</td>\n",
       "      <td>52.210657</td>\n",
       "      <td>10.523213</td>\n",
       "      <td>B</td>\n",
       "      <td>Leipziger Str. 220, 38124 Braunschweig, Germany</td>\n",
       "      <td>52.210868</td>\n",
       "      <td>10.523072</td>\n",
       "    </tr>\n",
       "    <tr>\n",
       "      <th>1</th>\n",
       "      <td>A</td>\n",
       "      <td>Hohes Feld 4, 38124 Braunschweig, Germany</td>\n",
       "      <td>52.210657</td>\n",
       "      <td>10.523213</td>\n",
       "      <td>C</td>\n",
       "      <td>Hohes Feld 4, 31226 Peine, Germany</td>\n",
       "      <td>52.293380</td>\n",
       "      <td>10.215091</td>\n",
       "    </tr>\n",
       "    <tr>\n",
       "      <th>2</th>\n",
       "      <td>A</td>\n",
       "      <td>Hohes Feld 4, 38124 Braunschweig, Germany</td>\n",
       "      <td>52.210657</td>\n",
       "      <td>10.523213</td>\n",
       "      <td>D</td>\n",
       "      <td>Hohes Feld 2A, 38124 Braunschweig, Germany</td>\n",
       "      <td>52.210207</td>\n",
       "      <td>10.521785</td>\n",
       "    </tr>\n",
       "    <tr>\n",
       "      <th>3</th>\n",
       "      <td>B</td>\n",
       "      <td>Leipziger Str. 220, 38124 Braunschweig, Germany</td>\n",
       "      <td>52.210868</td>\n",
       "      <td>10.523072</td>\n",
       "      <td>C</td>\n",
       "      <td>Hohes Feld 4, 31226 Peine, Germany</td>\n",
       "      <td>52.293380</td>\n",
       "      <td>10.215091</td>\n",
       "    </tr>\n",
       "    <tr>\n",
       "      <th>4</th>\n",
       "      <td>B</td>\n",
       "      <td>Leipziger Str. 220, 38124 Braunschweig, Germany</td>\n",
       "      <td>52.210868</td>\n",
       "      <td>10.523072</td>\n",
       "      <td>D</td>\n",
       "      <td>Hohes Feld 2A, 38124 Braunschweig, Germany</td>\n",
       "      <td>52.210207</td>\n",
       "      <td>10.521785</td>\n",
       "    </tr>\n",
       "    <tr>\n",
       "      <th>5</th>\n",
       "      <td>C</td>\n",
       "      <td>Hohes Feld 4, 31226 Peine, Germany</td>\n",
       "      <td>52.293380</td>\n",
       "      <td>10.215091</td>\n",
       "      <td>D</td>\n",
       "      <td>Hohes Feld 2A, 38124 Braunschweig, Germany</td>\n",
       "      <td>52.210207</td>\n",
       "      <td>10.521785</td>\n",
       "    </tr>\n",
       "  </tbody>\n",
       "</table>\n",
       "</div>"
      ],
      "text/plain": [
       "  s_name                                        s_address      s_lat  \\\n",
       "0      A        Hohes Feld 4, 38124 Braunschweig, Germany  52.210657   \n",
       "1      A        Hohes Feld 4, 38124 Braunschweig, Germany  52.210657   \n",
       "2      A        Hohes Feld 4, 38124 Braunschweig, Germany  52.210657   \n",
       "3      B  Leipziger Str. 220, 38124 Braunschweig, Germany  52.210868   \n",
       "4      B  Leipziger Str. 220, 38124 Braunschweig, Germany  52.210868   \n",
       "5      C               Hohes Feld 4, 31226 Peine, Germany  52.293380   \n",
       "\n",
       "       s_lng d_name                                        d_address  \\\n",
       "0  10.523213      B  Leipziger Str. 220, 38124 Braunschweig, Germany   \n",
       "1  10.523213      C               Hohes Feld 4, 31226 Peine, Germany   \n",
       "2  10.523213      D       Hohes Feld 2A, 38124 Braunschweig, Germany   \n",
       "3  10.523072      C               Hohes Feld 4, 31226 Peine, Germany   \n",
       "4  10.523072      D       Hohes Feld 2A, 38124 Braunschweig, Germany   \n",
       "5  10.215091      D       Hohes Feld 2A, 38124 Braunschweig, Germany   \n",
       "\n",
       "       d_lat      d_lng  \n",
       "0  52.210868  10.523072  \n",
       "1  52.293380  10.215091  \n",
       "2  52.210207  10.521785  \n",
       "3  52.293380  10.215091  \n",
       "4  52.210207  10.521785  \n",
       "5  52.210207  10.521785  "
      ]
     },
     "execution_count": 50,
     "metadata": {},
     "output_type": "execute_result"
    }
   ],
   "source": [
    "dfx"
   ]
  },
  {
   "cell_type": "code",
   "execution_count": 51,
   "metadata": {},
   "outputs": [],
   "source": [
    "for index, row in dfx.iterrows():\n",
    "    dist = mpu.haversine_distance((row[\"s_lat\"], row[\"s_lng\"]), (row[\"d_lat\"], row[\"d_lng\"]))\n",
    "    dfx.loc[index, \"distance\"] = dist"
   ]
  },
  {
   "cell_type": "code",
   "execution_count": 52,
   "metadata": {},
   "outputs": [
    {
     "data": {
      "text/html": [
       "<div>\n",
       "<style scoped>\n",
       "    .dataframe tbody tr th:only-of-type {\n",
       "        vertical-align: middle;\n",
       "    }\n",
       "\n",
       "    .dataframe tbody tr th {\n",
       "        vertical-align: top;\n",
       "    }\n",
       "\n",
       "    .dataframe thead th {\n",
       "        text-align: right;\n",
       "    }\n",
       "</style>\n",
       "<table border=\"1\" class=\"dataframe\">\n",
       "  <thead>\n",
       "    <tr style=\"text-align: right;\">\n",
       "      <th></th>\n",
       "      <th>s_name</th>\n",
       "      <th>s_address</th>\n",
       "      <th>s_lat</th>\n",
       "      <th>s_lng</th>\n",
       "      <th>d_name</th>\n",
       "      <th>d_address</th>\n",
       "      <th>d_lat</th>\n",
       "      <th>d_lng</th>\n",
       "      <th>distance</th>\n",
       "    </tr>\n",
       "  </thead>\n",
       "  <tbody>\n",
       "    <tr>\n",
       "      <th>0</th>\n",
       "      <td>A</td>\n",
       "      <td>Hohes Feld 4, 38124 Braunschweig, Germany</td>\n",
       "      <td>52.210657</td>\n",
       "      <td>10.523213</td>\n",
       "      <td>B</td>\n",
       "      <td>Leipziger Str. 220, 38124 Braunschweig, Germany</td>\n",
       "      <td>52.210868</td>\n",
       "      <td>10.523072</td>\n",
       "      <td>0.025376</td>\n",
       "    </tr>\n",
       "    <tr>\n",
       "      <th>1</th>\n",
       "      <td>A</td>\n",
       "      <td>Hohes Feld 4, 38124 Braunschweig, Germany</td>\n",
       "      <td>52.210657</td>\n",
       "      <td>10.523213</td>\n",
       "      <td>C</td>\n",
       "      <td>Hohes Feld 4, 31226 Peine, Germany</td>\n",
       "      <td>52.293380</td>\n",
       "      <td>10.215091</td>\n",
       "      <td>22.902873</td>\n",
       "    </tr>\n",
       "    <tr>\n",
       "      <th>2</th>\n",
       "      <td>A</td>\n",
       "      <td>Hohes Feld 4, 38124 Braunschweig, Germany</td>\n",
       "      <td>52.210657</td>\n",
       "      <td>10.523213</td>\n",
       "      <td>D</td>\n",
       "      <td>Hohes Feld 2A, 38124 Braunschweig, Germany</td>\n",
       "      <td>52.210207</td>\n",
       "      <td>10.521785</td>\n",
       "      <td>0.109389</td>\n",
       "    </tr>\n",
       "    <tr>\n",
       "      <th>3</th>\n",
       "      <td>B</td>\n",
       "      <td>Leipziger Str. 220, 38124 Braunschweig, Germany</td>\n",
       "      <td>52.210868</td>\n",
       "      <td>10.523072</td>\n",
       "      <td>C</td>\n",
       "      <td>Hohes Feld 4, 31226 Peine, Germany</td>\n",
       "      <td>52.293380</td>\n",
       "      <td>10.215091</td>\n",
       "      <td>22.884647</td>\n",
       "    </tr>\n",
       "    <tr>\n",
       "      <th>4</th>\n",
       "      <td>B</td>\n",
       "      <td>Leipziger Str. 220, 38124 Braunschweig, Germany</td>\n",
       "      <td>52.210868</td>\n",
       "      <td>10.523072</td>\n",
       "      <td>D</td>\n",
       "      <td>Hohes Feld 2A, 38124 Braunschweig, Germany</td>\n",
       "      <td>52.210207</td>\n",
       "      <td>10.521785</td>\n",
       "      <td>0.114477</td>\n",
       "    </tr>\n",
       "    <tr>\n",
       "      <th>5</th>\n",
       "      <td>C</td>\n",
       "      <td>Hohes Feld 4, 31226 Peine, Germany</td>\n",
       "      <td>52.293380</td>\n",
       "      <td>10.215091</td>\n",
       "      <td>D</td>\n",
       "      <td>Hohes Feld 2A, 38124 Braunschweig, Germany</td>\n",
       "      <td>52.210207</td>\n",
       "      <td>10.521785</td>\n",
       "      <td>22.834263</td>\n",
       "    </tr>\n",
       "  </tbody>\n",
       "</table>\n",
       "</div>"
      ],
      "text/plain": [
       "  s_name                                        s_address      s_lat  \\\n",
       "0      A        Hohes Feld 4, 38124 Braunschweig, Germany  52.210657   \n",
       "1      A        Hohes Feld 4, 38124 Braunschweig, Germany  52.210657   \n",
       "2      A        Hohes Feld 4, 38124 Braunschweig, Germany  52.210657   \n",
       "3      B  Leipziger Str. 220, 38124 Braunschweig, Germany  52.210868   \n",
       "4      B  Leipziger Str. 220, 38124 Braunschweig, Germany  52.210868   \n",
       "5      C               Hohes Feld 4, 31226 Peine, Germany  52.293380   \n",
       "\n",
       "       s_lng d_name                                        d_address  \\\n",
       "0  10.523213      B  Leipziger Str. 220, 38124 Braunschweig, Germany   \n",
       "1  10.523213      C               Hohes Feld 4, 31226 Peine, Germany   \n",
       "2  10.523213      D       Hohes Feld 2A, 38124 Braunschweig, Germany   \n",
       "3  10.523072      C               Hohes Feld 4, 31226 Peine, Germany   \n",
       "4  10.523072      D       Hohes Feld 2A, 38124 Braunschweig, Germany   \n",
       "5  10.215091      D       Hohes Feld 2A, 38124 Braunschweig, Germany   \n",
       "\n",
       "       d_lat      d_lng   distance  \n",
       "0  52.210868  10.523072   0.025376  \n",
       "1  52.293380  10.215091  22.902873  \n",
       "2  52.210207  10.521785   0.109389  \n",
       "3  52.293380  10.215091  22.884647  \n",
       "4  52.210207  10.521785   0.114477  \n",
       "5  52.210207  10.521785  22.834263  "
      ]
     },
     "execution_count": 52,
     "metadata": {},
     "output_type": "execute_result"
    }
   ],
   "source": [
    "dfx"
   ]
  },
  {
   "cell_type": "code",
   "execution_count": 53,
   "metadata": {},
   "outputs": [
    {
     "data": {
      "text/html": [
       "<div>\n",
       "<style scoped>\n",
       "    .dataframe tbody tr th:only-of-type {\n",
       "        vertical-align: middle;\n",
       "    }\n",
       "\n",
       "    .dataframe tbody tr th {\n",
       "        vertical-align: top;\n",
       "    }\n",
       "\n",
       "    .dataframe thead th {\n",
       "        text-align: right;\n",
       "    }\n",
       "</style>\n",
       "<table border=\"1\" class=\"dataframe\">\n",
       "  <thead>\n",
       "    <tr style=\"text-align: right;\">\n",
       "      <th></th>\n",
       "      <th>s_name</th>\n",
       "      <th>s_address</th>\n",
       "      <th>s_lat</th>\n",
       "      <th>s_lng</th>\n",
       "      <th>d_name</th>\n",
       "      <th>d_address</th>\n",
       "      <th>d_lat</th>\n",
       "      <th>d_lng</th>\n",
       "      <th>distance</th>\n",
       "    </tr>\n",
       "  </thead>\n",
       "  <tbody>\n",
       "    <tr>\n",
       "      <th>0</th>\n",
       "      <td>A</td>\n",
       "      <td>Hohes Feld 4, 38124 Braunschweig, Germany</td>\n",
       "      <td>52.210657</td>\n",
       "      <td>10.523213</td>\n",
       "      <td>B</td>\n",
       "      <td>Leipziger Str. 220, 38124 Braunschweig, Germany</td>\n",
       "      <td>52.210868</td>\n",
       "      <td>10.523072</td>\n",
       "      <td>0.025376</td>\n",
       "    </tr>\n",
       "  </tbody>\n",
       "</table>\n",
       "</div>"
      ],
      "text/plain": [
       "  s_name                                  s_address      s_lat      s_lng  \\\n",
       "0      A  Hohes Feld 4, 38124 Braunschweig, Germany  52.210657  10.523213   \n",
       "\n",
       "  d_name                                        d_address      d_lat  \\\n",
       "0      B  Leipziger Str. 220, 38124 Braunschweig, Germany  52.210868   \n",
       "\n",
       "       d_lng  distance  \n",
       "0  10.523072  0.025376  "
      ]
     },
     "execution_count": 53,
     "metadata": {},
     "output_type": "execute_result"
    }
   ],
   "source": [
    "dfx[dfx[\"distance\"] < 0.05]"
   ]
  },
  {
   "cell_type": "code",
   "execution_count": null,
   "metadata": {},
   "outputs": [],
   "source": []
  }
 ],
 "metadata": {
  "kernelspec": {
   "display_name": "Python 3",
   "language": "python",
   "name": "python3"
  },
  "language_info": {
   "codemirror_mode": {
    "name": "ipython",
    "version": 3
   },
   "file_extension": ".py",
   "mimetype": "text/x-python",
   "name": "python",
   "nbconvert_exporter": "python",
   "pygments_lexer": "ipython3",
   "version": "3.10.12"
  },
  "orig_nbformat": 4
 },
 "nbformat": 4,
 "nbformat_minor": 2
}
